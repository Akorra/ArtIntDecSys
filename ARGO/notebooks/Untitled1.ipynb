{
 "cells": [
  {
   "cell_type": "code",
   "execution_count": 104,
   "metadata": {},
   "outputs": [],
   "source": [
    "class Game:    \n",
    "    def __init__(self):\n",
    "        print(\"[+] Game Created, please load a game board to proceed...\")\n",
    "        self.board = None\n",
    "        \n",
    "    def to_move(self, s):\n",
    "        self.test_method_failure()\n",
    "        p = 1 #player\n",
    "        return p\n",
    "    \n",
    "    def terminal_test(self, s):\n",
    "        self.test_method_failure()\n",
    "        return True\n",
    "    \n",
    "    def utility(self, s, p):\n",
    "        self.test_method_failure()\n",
    "        payoff = 1\n",
    "        return payoff\n",
    "    \n",
    "    def actions(self, s):\n",
    "        '''\n",
    "            This is only returning empty spaces, available actions should not allow for KO rule breakers\n",
    "            and maybe even stupid moves\n",
    "        '''\n",
    "        self.test_method_failure()\n",
    "        return [(self.to_move(s), i, j) for i in range(self.n) for j in range(self.n) if go.board[i][j] == 0] \n",
    "    \n",
    "    def result(self, s, a):\n",
    "        self.test_method_failure()\n",
    "        state = s\n",
    "        return state\n",
    "    \n",
    "    def load_board(self, s):\n",
    "        '''\n",
    "            Loads the board from an opened file stream and saves it to the class field 'board'\n",
    "            as weel as board dimension 'n', and first player 'p'\n",
    "            this is done while checking for file integrity\n",
    "        '''\n",
    "        \n",
    "        print(\"\\t[+] Loading Board...\")\n",
    "        contents = s.read().split()\n",
    "        try:\n",
    "            self.n = int(contents[0]) # get board dimension\n",
    "            self.p = int(contents[1]) # get first player to move\n",
    "            self.board = [list(map(int, lst)) for lst in contents[2:] # load board into 2D list\n",
    "                          if len(lst)==self.n or                      # check if each row has the correct number of elements\n",
    "                          any(c in lst for c in ['3', '4', '5', '6', '7', '8', '9'])] #check if any digits above 2 in each row\n",
    "        except ValueError:\n",
    "            # if at any point a non numeric value is found failure is issued\n",
    "            self.load_failure()\n",
    "            return\n",
    "        \n",
    "        if len(self.board) == self.n:\n",
    "            print(\"\\t[+] Game Board Successfuly Loaded!\")\n",
    "        else:\n",
    "            # if dimensions dont match return failure\n",
    "            self.load_failure()\n",
    "    \n",
    "    def load_failure(self):\n",
    "        print(\"\\t\\t[-] Bad File...\")\n",
    "        print(\"\\t\\t[-] Please try another file...\")\n",
    "        self.board = None\n",
    "    \n",
    "    def test_method_failure(self):\n",
    "        if not self.board:\n",
    "            print('\\t[-] Game not initiated, please lad a game borad...')\n",
    "            raise Exception('Error: Game not initiated.')"
   ]
  },
  {
   "cell_type": "code",
   "execution_count": 485,
   "metadata": {},
   "outputs": [],
   "source": [
    "class Cluster:\n",
    "    \n",
    "    def __init__(self):\n",
    "        self.clusters = {1: {}, 2: {}}\n",
    "    \n",
    "    def getRegionSize(self, p, matrix, n, row, column, key):\n",
    "        if(row<0 or column<0 or row>=n or column>=n):\n",
    "            return 0\n",
    "        \n",
    "        if(matrix[row][column] == 0):\n",
    "            self.clusters[p][key][\"liberties\"].update([(row, column)])\n",
    "            return 0\n",
    "        \n",
    "        if(matrix[row][column] != p):\n",
    "            return 0\n",
    "        \n",
    "        matrix[row][column] = -1\n",
    "        self.clusters[p][key][\"pieces\"].update([(row, column)])\n",
    "        \n",
    "        size = 1\n",
    "        size += self.getRegionSize(p, matrix, n, row-1, column, key);\n",
    "        size += self.getRegionSize(p, matrix, n, row+1, column, key);\n",
    "        size += self.getRegionSize(p, matrix, n, row, column-1, key);\n",
    "        size += self.getRegionSize(p, matrix, n, row, column+1, key);\n",
    "        return size\n",
    "            \n",
    "        \n",
    "    def getBiggestRegion(self, matrix, n):\n",
    "        maxRegion1 = 0\n",
    "        maxRegion2 = 0\n",
    "    \n",
    "        for i in range(n):\n",
    "            for j in range(n):\n",
    "                if(matrix[i][j] == 1):\n",
    "                    key = len(self.clusters[1])+1\n",
    "                    self.clusters[1].update({key: {\"pieces\": set(), \"liberties\": set()}})\n",
    "                    size1 = self.getRegionSize(1, matrix, n, i, j, key)\n",
    "                    maxRegion = max(size1, maxRegion1)\n",
    "                elif(matrix[i][j] == 2):\n",
    "                    key = len(self.clusters[2])+1\n",
    "                    self.clusters[2].update({key: {\"pieces\": set(), \"liberties\": set()}})\n",
    "                    size2 = self.getRegionSize(2, matrix, n, i, j, key)\n",
    "                    maxRegion2 = max(size2, maxRegion2)\n",
    "                \n",
    "        return maxRegion1, maxRegion2"
   ]
  },
  {
   "cell_type": "code",
   "execution_count": 486,
   "metadata": {},
   "outputs": [
    {
     "name": "stdout",
     "output_type": "stream",
     "text": [
      "[+] Game Created, please load a game board to proceed...\n",
      "\t[+] Loading Board...\n",
      "\t[+] Game Board Successfuly Loaded!\n"
     ]
    },
    {
     "data": {
      "text/plain": [
       "[[0, 0, 1, 0], [0, 1, 2, 2], [0, 2, 1, 0], [0, 0, 0, 0]]"
      ]
     },
     "execution_count": 486,
     "metadata": {},
     "output_type": "execute_result"
    }
   ],
   "source": [
    "go = Game()\n",
    "go.load_board(open('../boards/board_1.txt', 'r'))\n",
    "matrix = go.board.copy()\n",
    "n = go.n\n",
    "matrix"
   ]
  },
  {
   "cell_type": "code",
   "execution_count": 487,
   "metadata": {},
   "outputs": [
    {
     "data": {
      "text/plain": [
       "(0, 2)"
      ]
     },
     "execution_count": 487,
     "metadata": {},
     "output_type": "execute_result"
    }
   ],
   "source": [
    "clstr = Cluster()\n",
    "clstr.getBiggestRegion(matrix, n)"
   ]
  },
  {
   "cell_type": "code",
   "execution_count": 488,
   "metadata": {},
   "outputs": [
    {
     "data": {
      "text/plain": [
       "[[0, 0, -1, 0], [0, -1, -1, -1], [0, -1, -1, 0], [0, 0, 0, 0]]"
      ]
     },
     "execution_count": 488,
     "metadata": {},
     "output_type": "execute_result"
    }
   ],
   "source": [
    "matrix"
   ]
  },
  {
   "cell_type": "code",
   "execution_count": 489,
   "metadata": {},
   "outputs": [
    {
     "data": {
      "text/plain": [
       "{1: {1: {'pieces': {(0, 2)}, 'liberties': {(0, 1), (0, 3)}},\n",
       "  2: {'pieces': {(1, 1)}, 'liberties': {(0, 1), (1, 0)}},\n",
       "  3: {'pieces': {(2, 2)}, 'liberties': {(2, 3), (3, 2)}}},\n",
       " 2: {1: {'pieces': {(1, 2), (1, 3)}, 'liberties': {(0, 3), (2, 3)}},\n",
       "  2: {'pieces': {(2, 1)}, 'liberties': {(2, 0), (3, 1)}}}}"
      ]
     },
     "execution_count": 489,
     "metadata": {},
     "output_type": "execute_result"
    }
   ],
   "source": [
    "clstr.clusters"
   ]
  },
  {
   "cell_type": "code",
   "execution_count": 436,
   "metadata": {},
   "outputs": [
    {
     "data": {
      "text/plain": [
       "{}"
      ]
     },
     "execution_count": 436,
     "metadata": {},
     "output_type": "execute_result"
    }
   ],
   "source": [
    "clstr.clusters[2]"
   ]
  },
  {
   "cell_type": "code",
   "execution_count": 410,
   "metadata": {},
   "outputs": [],
   "source": [
    "import random"
   ]
  },
  {
   "cell_type": "code",
   "execution_count": 415,
   "metadata": {},
   "outputs": [
    {
     "data": {
      "text/plain": [
       "2"
      ]
     },
     "execution_count": 415,
     "metadata": {},
     "output_type": "execute_result"
    }
   ],
   "source": [
    "random.randint(0,2)"
   ]
  },
  {
   "cell_type": "code",
   "execution_count": 420,
   "metadata": {},
   "outputs": [],
   "source": [
    "n19 = [[random.randint(0,2) for i in range(100)] for j in range(100)]"
   ]
  },
  {
   "cell_type": "code",
   "execution_count": 423,
   "metadata": {},
   "outputs": [
    {
     "data": {
      "text/plain": [
       "(0, 41)"
      ]
     },
     "execution_count": 423,
     "metadata": {},
     "output_type": "execute_result"
    }
   ],
   "source": [
    "clstr = Cluster()\n",
    "clstr.getBiggestRegion(n19, 100)"
   ]
  },
  {
   "cell_type": "code",
   "execution_count": null,
   "metadata": {},
   "outputs": [],
   "source": []
  }
 ],
 "metadata": {
  "kernelspec": {
   "display_name": "Python 3",
   "language": "python",
   "name": "python3"
  },
  "language_info": {
   "codemirror_mode": {
    "name": "ipython",
    "version": 3
   },
   "file_extension": ".py",
   "mimetype": "text/x-python",
   "name": "python",
   "nbconvert_exporter": "python",
   "pygments_lexer": "ipython3",
   "version": "3.6.3"
  }
 },
 "nbformat": 4,
 "nbformat_minor": 2
}
