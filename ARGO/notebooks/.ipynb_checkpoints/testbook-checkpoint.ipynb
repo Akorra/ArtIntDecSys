{
 "cells": [
  {
   "cell_type": "code",
   "execution_count": 215,
   "metadata": {},
   "outputs": [],
   "source": [
    "class Game:    \n",
    "    def __init__(self):\n",
    "        print(\"[+] Game Created, please load a game board to proceed...\")\n",
    "        self.board = None\n",
    "        \n",
    "    def to_move(self, s):\n",
    "        p = 1 #player\n",
    "        return p\n",
    "    \n",
    "    def terminal_test(self, s):\n",
    "        return True\n",
    "    \n",
    "    def utility(self, s, p):\n",
    "        payoff = 1\n",
    "        return payoff\n",
    "    \n",
    "    def actions(self, s):\n",
    "        actions = [1, 2, 3, 4]\n",
    "        return actions\n",
    "    \n",
    "    def result(self, s, a):\n",
    "        state = s\n",
    "        return state\n",
    "    \n",
    "    def load_board(self, s):\n",
    "        '''\n",
    "            Loads the board from an opened file stream and saves it to the class field 'board'\n",
    "            as weel as board dimension 'n', and first player 'p'\n",
    "            this is done while checking for file integrity\n",
    "        '''\n",
    "        \n",
    "        print(\"\\t[+] Loading Board...\")\n",
    "        contents = s.read().split()\n",
    "        try:\n",
    "            self.n = int(contents[0]) # get board dimension\n",
    "            self.p = int(contents[1]) # get first player to move\n",
    "            self.board = [list(map(int, lst)) for lst in contents[2:] # load board into 2D list\n",
    "                          if len(lst)==self.n or                      # check if each row has the correct number of elements\n",
    "                          any(c in lst for c in ['3', '4', '5', '6', '7', '8', '9'])] #check if any digits above 2 in each row\n",
    "        except ValueError:\n",
    "            # if at any point a non numeric value is found failure is issued\n",
    "            self.load_failure()\n",
    "            return\n",
    "        \n",
    "        if len(self.board) == self.n:\n",
    "            print(\"\\t[+] Game Board Successfuly Loaded!\")\n",
    "        else:\n",
    "            # if dimensions dont match return failure\n",
    "            self.load_failure()\n",
    "    \n",
    "    def load_failure(self):\n",
    "        print(\"\\t\\t[-] Bad File...\")\n",
    "        print(\"\\t\\t[-] Please try another file...\")\n",
    "        self.board = None"
   ]
  },
  {
   "cell_type": "code",
   "execution_count": 216,
   "metadata": {},
   "outputs": [
    {
     "name": "stdout",
     "output_type": "stream",
     "text": [
      "[+] Game Created, please load a game board to proceed...\n",
      "\t[+] Loading Board...\n",
      "\t\t[-] Bad File...\n",
      "\t\t[-] Please try another file...\n"
     ]
    }
   ],
   "source": [
    "go = Game()\n",
    "go.load_board(open('../boards/board_faulty_1.txt', 'r'))"
   ]
  },
  {
   "cell_type": "code",
   "execution_count": 193,
   "metadata": {},
   "outputs": [
    {
     "data": {
      "text/plain": [
       "[[0, 0, 1, 0], [0, 5, 0, 2], [0, 0, 0, 0], [0, 0, 0, 0]]"
      ]
     },
     "execution_count": 193,
     "metadata": {},
     "output_type": "execute_result"
    }
   ],
   "source": [
    "go.board"
   ]
  }
 ],
 "metadata": {
  "kernelspec": {
   "display_name": "Python 3",
   "language": "python",
   "name": "python3"
  },
  "language_info": {
   "codemirror_mode": {
    "name": "ipython",
    "version": 3
   },
   "file_extension": ".py",
   "mimetype": "text/x-python",
   "name": "python",
   "nbconvert_exporter": "python",
   "pygments_lexer": "ipython3",
   "version": "3.6.3"
  }
 },
 "nbformat": 4,
 "nbformat_minor": 2
}
