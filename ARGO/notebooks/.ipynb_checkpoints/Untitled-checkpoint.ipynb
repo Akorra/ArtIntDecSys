{
 "cells": [
  {
   "cell_type": "code",
   "execution_count": 1,
   "metadata": {},
   "outputs": [],
   "source": [
    "import copy as cp"
   ]
  },
  {
   "cell_type": "code",
   "execution_count": 2,
   "metadata": {},
   "outputs": [],
   "source": [
    "def cluster_maker(state, p, board, row, column, key):\n",
    "    if(row<0 or column<0 or row>=state.n or column>=state.n):\n",
    "        return \n",
    "        \n",
    "    if(board[row][column] == 0):\n",
    "        state.clusters[p][key][\"liberties\"].update([(row, column)])\n",
    "        return \n",
    "        \n",
    "    if(board[row][column] != p):\n",
    "        return \n",
    "        \n",
    "    board[row][column] = -1\n",
    "    state.clusters[p][key][\"pieces\"].update([(row, column)])\n",
    "\n",
    "    cluster_maker(state, p, board, row-1, column, key)\n",
    "    cluster_maker(state, p, board, row+1, column, key)\n",
    "    cluster_maker(state, p, board, row, column-1, key)\n",
    "    cluster_maker(state, p, board, row, column+1, key)\n",
    "    \n",
    "\n",
    "def grouper(n, board, state):\n",
    "    matrix = cp.deepcopy(board)\n",
    "    state.n = n\n",
    "        \n",
    "    for i in range(n):\n",
    "        for j in range(n):\n",
    "            if(matrix[i][j] == 1):\n",
    "                key = len(state.clusters[1])+1\n",
    "                state.clusters[1].update({key: {\"pieces\": set(), \"liberties\": set()}})\n",
    "                cluster_maker(state, 1, matrix, i, j, key)\n",
    "                    \n",
    "            elif(matrix[i][j] == 2):\n",
    "                key = len(state.clusters[2])+1\n",
    "                state.clusters[2].update({key: {\"pieces\": set(), \"liberties\": set()}})\n",
    "                cluster_maker(state, 2, matrix, i, j, key)\n",
    "                    \n",
    "            elif(board[i][j] != -1):\n",
    "                state.empty_points.update([(i,j)])\n",
    "    return state\n",
    "    \n",
    "def join_clusters(cluster1, cluster2):\n",
    "    return {\"pieces\" : cluster1[\"pieces\"].union(cluster2[\"pieces\"]), \"liberties\" : cluster1[\"liberties\"].union(cluster2[\"liberties\"])}\n",
    "\n",
    "def add_to_cluster(state, p, key, row, column):\n",
    "    liberties = get_liberties(state, row, column) \n",
    "        \n",
    "    try:\n",
    "        state.clusters[p][key][\"liberties\"].remove((row,column))\n",
    "    except:\n",
    "        pass\n",
    "    \n",
    "    state.clusters[p][key][\"pieces\"].update([(row,column)])\n",
    "    state.clusters[p][key][\"liberties\"].update(liberties)\n",
    "     \n",
    "def get_liberties(state, row, column):\n",
    "    liberties = []\n",
    "    if((row-1>=0) and ((row-1,column) in state.empty_points)):\n",
    "        liberties.append((row-1,column))\n",
    "    \n",
    "    if((row+1<state.n) and ((row+1,column) in state.empty_points)):\n",
    "        liberties.append((row+1,column))\n",
    "    \n",
    "    if((column-1>=0) and ((row,column-1) in state.empty_points)):\n",
    "        liberties.append((row,column-1))\n",
    "            \n",
    "    if((column+1<state.n) and ((row,column+1) in state.empty_points)):\n",
    "        liberties.append((row,column+1))\n",
    "                \n",
    "    return liberties\n",
    "\n",
    "def add_piece(state, p, row, column):\n",
    "    to_join = []\n",
    "    \n",
    "    if(p==1):\n",
    "        op = 2 \n",
    "    else: \n",
    "        op = 1    \n",
    "    \n",
    "    for cluster in state.clusters[p].items():\n",
    "        if((row,column) in cluster[1][\"liberties\"]):\n",
    "            to_join.append(cluster[0])\n",
    "            \n",
    "    if(len(to_join)>1):\n",
    "        for i in to_join[1:]:\n",
    "            state.clusters[p][to_join[0]] = join_clusters(state.clusters[p][to_join[0]], state.clusters[p][i])\n",
    "            del state.clusters[p][i]\n",
    "    \n",
    "            add_to_cluster(state, p, to_join[0], row, column)\n",
    "        \n",
    "    elif(len(to_join) == 1):\n",
    "        add_to_cluster(state, p, to_join[0], row, column)\n",
    "    \n",
    "    else:\n",
    "        state.clusters[p].update({len(state.clusters[p])+1: {\"pieces\": set([(row,column)]), \"liberties\": set(get_liberties(state, row, column))}})\n",
    "    \n",
    "    for cluster in state.clusters[op].items():\n",
    "        try:\n",
    "            cluster[1][\"liberties\"].remove((row,column)) \n",
    "        except:\n",
    "            pass\n",
    "    \n",
    "    state.empty_points.remove((row,column))\n",
    "            "
   ]
  },
  {
   "cell_type": "code",
   "execution_count": 3,
   "metadata": {},
   "outputs": [],
   "source": [
    "class State:\n",
    "    def __init__(self):\n",
    "        self.empty_points = set()\n",
    "        self.clusters = {1:{}, 2:{}}\n",
    "        self.n = -1\n",
    "        self.p = -1"
   ]
  },
  {
   "cell_type": "code",
   "execution_count": 4,
   "metadata": {},
   "outputs": [],
   "source": [
    "class Game:\n",
    "    def __init__(self):\n",
    "        self.n = -1\n",
    "        self.p = -1\n",
    "        print(\"[+] Game Created, please load a game board to proceed...\")\n",
    "        \n",
    "    def load_failure(self):\n",
    "        print(\"\\t\\t[-] Bad File...\")\n",
    "        print(\"\\t\\t[-] Please try another file...\")\n",
    "        self.n = -1\n",
    "\n",
    "    def load_board(self, s):\n",
    "        print(\"\\t[+] Loading Board...\")\n",
    "        contents = s.read().split()\n",
    "        try:\n",
    "            self.n = int(contents[0]) # get board dimension\n",
    "            self.p = int(contents[1]) # get first player to move\n",
    "            board = [list(map(int, lst)) for lst in contents[2:] # load board into 2D list\n",
    "                     if len(lst)==self.n or                      # check if each row has the correct number of elements\n",
    "                     any(c in lst for c in ['3', '4', '5', '6', '7', '8', '9'])] #check if any digits above 2 in each row\n",
    "        except ValueError:\n",
    "            # if at any point a non numeric value is found failure is issued\n",
    "            self.load_failure()\n",
    "            return\n",
    "        \n",
    "        if len(board) == self.n:\n",
    "            print(\"\\t[+] Game Board Successfuly Loaded!\")\n",
    "        else:\n",
    "            # if dimensions dont match return failure\n",
    "            self.load_failure()\n",
    "            \n",
    "        print(\"\\t[+] Generating 1st state...\")\n",
    "        state = State()\n",
    "        state = grouper(self.n, board, state)\n",
    "        state.p = self.p\n",
    "        \n",
    "        return state\n",
    "    \n",
    "    def to_move(self, s):\n",
    "        return s.p\n",
    "    \n",
    "    def actions(self, s):\n",
    "        return [(self.to_move(s), i[0], i[1]) for i in state.empty_points]\n",
    "        \n",
    "    def result(self, s, a):\n",
    "        new_state = cp.deepcopy(s)\n",
    "        add_piece(new_state, a[0], a[1], a[2])\n",
    "        if new_state.p == 1:\n",
    "            new_state.p = 2\n",
    "        else:\n",
    "            new_state.p = 1\n",
    "        return new_state\n",
    "    \n",
    "    def search_min_libs(self, s, p):\n",
    "        min_libs = float('inf')\n",
    "        for cluster in s.clusters[p].values():\n",
    "            libsize = len(cluster['liberties'])\n",
    "            if min_libs>libsize:\n",
    "                min_libs = libsize\n",
    "        return min_libs\n",
    "                \n",
    "    def terminal_test(self, s):\n",
    "        min_libs_1 = self.search_min_libs(s, 1)\n",
    "        min_libs_2 = self.search_min_libs(s, 2)\n",
    "        \n",
    "        if(min_libs_1 == 0 or min_libs_2 == 0):\n",
    "            return True\n",
    "        else:\n",
    "            return False\n",
    "        \n",
    "    def utility(self, s, p):\n",
    "        min_libs_1 = self.search_min_libs(s, 1)\n",
    "        min_libs_2 = self.search_min_libs(s, 2)\n",
    "        \n",
    "        num = 0\n",
    "        if(p == 1):\n",
    "            num = min_libs_1-min_libs_2\n",
    "        else:\n",
    "            num = min_libs_2-min_libs_1\n",
    "        \n",
    "        if(min_libs_1==0 and min_libs_2==0):\n",
    "            return 0\n",
    "        else:\n",
    "            return num/max(min_libs_1, min_libs_2)\n",
    "        "
   ]
  },
  {
   "cell_type": "code",
   "execution_count": 5,
   "metadata": {},
   "outputs": [
    {
     "name": "stdout",
     "output_type": "stream",
     "text": [
      "[+] Game Created, please load a game board to proceed...\n",
      "\t[+] Loading Board...\n",
      "\t[+] Game Board Successfuly Loaded!\n",
      "\t[+] Generating 1st state...\n"
     ]
    }
   ],
   "source": [
    "go = Game()\n",
    "state = go.load_board(open('../boards/board_2.txt', 'r'))"
   ]
  },
  {
   "cell_type": "code",
   "execution_count": 6,
   "metadata": {},
   "outputs": [
    {
     "data": {
      "text/plain": [
       "{(0, 0),\n",
       " (0, 1),\n",
       " (0, 2),\n",
       " (0, 3),\n",
       " (1, 0),\n",
       " (1, 3),\n",
       " (2, 0),\n",
       " (2, 1),\n",
       " (2, 2),\n",
       " (2, 3),\n",
       " (3, 0),\n",
       " (3, 1),\n",
       " (3, 2),\n",
       " (3, 3)}"
      ]
     },
     "execution_count": 6,
     "metadata": {},
     "output_type": "execute_result"
    }
   ],
   "source": [
    "state.empty_points"
   ]
  },
  {
   "cell_type": "code",
   "execution_count": 7,
   "metadata": {},
   "outputs": [
    {
     "data": {
      "text/plain": [
       "{1: {1: {'pieces': {(1, 2)}, 'liberties': {(0, 2), (1, 3), (2, 2)}}},\n",
       " 2: {1: {'pieces': {(1, 1)}, 'liberties': {(0, 1), (1, 0), (2, 1)}}}}"
      ]
     },
     "execution_count": 7,
     "metadata": {},
     "output_type": "execute_result"
    }
   ],
   "source": [
    "state.clusters"
   ]
  },
  {
   "cell_type": "code",
   "execution_count": 14,
   "metadata": {},
   "outputs": [
    {
     "data": {
      "text/plain": [
       "0.0"
      ]
     },
     "execution_count": 14,
     "metadata": {},
     "output_type": "execute_result"
    }
   ],
   "source": [
    "score = go.utility(state, 1)\n",
    "score"
   ]
  },
  {
   "cell_type": "code",
   "execution_count": 22,
   "metadata": {},
   "outputs": [
    {
     "data": {
      "text/plain": [
       "{1: {1: {'pieces': {(0, 0), (0, 1), (0, 2), (1, 2), (2, 2)},\n",
       "   'liberties': set()},\n",
       "  3: {'pieces': {(3, 3)}, 'liberties': set()},\n",
       "  4: {'pieces': {(3, 1)}, 'liberties': set()},\n",
       "  5: {'pieces': {(2, 0)}, 'liberties': set()}},\n",
       " 2: {1: {'pieces': {(1, 0), (1, 1), (2, 1)}, 'liberties': set()},\n",
       "  2: {'pieces': {(3, 2)}, 'liberties': set()},\n",
       "  3: {'pieces': {(0, 3), (1, 3), (2, 3)}, 'liberties': set()},\n",
       "  4: {'pieces': {(3, 0)}, 'liberties': set()}}}"
      ]
     },
     "execution_count": 22,
     "metadata": {},
     "output_type": "execute_result"
    }
   ],
   "source": [
    "ns.clusters"
   ]
  },
  {
   "cell_type": "code",
   "execution_count": 21,
   "metadata": {},
   "outputs": [],
   "source": [
    "ns = state\n",
    "prev = 2\n",
    "for point in ns.empty_points:\n",
    "    if prev ==2:\n",
    "        prev = 1\n",
    "    else:\n",
    "        prev = 2\n",
    "    ns = go.result(ns, (prev, point[0], point[1]))"
   ]
  },
  {
   "cell_type": "code",
   "execution_count": null,
   "metadata": {},
   "outputs": [],
   "source": []
  },
  {
   "cell_type": "code",
   "execution_count": 309,
   "metadata": {},
   "outputs": [],
   "source": [
    "ns5 = go.result(ns4, (1, 1, 0))"
   ]
  },
  {
   "cell_type": "code",
   "execution_count": 138,
   "metadata": {},
   "outputs": [],
   "source": [
    "newState = go.result(newState, (2, 0, 0))"
   ]
  },
  {
   "cell_type": "code",
   "execution_count": 139,
   "metadata": {},
   "outputs": [
    {
     "data": {
      "text/plain": [
       "{(0, 1), (0, 2), (0, 3), (1, 3), (2, 3), (3, 0), (3, 1), (3, 2), (3, 3)}"
      ]
     },
     "execution_count": 139,
     "metadata": {},
     "output_type": "execute_result"
    }
   ],
   "source": [
    "newState.empty_points"
   ]
  },
  {
   "cell_type": "code",
   "execution_count": 116,
   "metadata": {},
   "outputs": [
    {
     "data": {
      "text/plain": [
       "[(2, 0, 1),\n",
       " (2, 3, 2),\n",
       " (2, 0, 0),\n",
       " (2, 1, 3),\n",
       " (2, 3, 3),\n",
       " (2, 3, 0),\n",
       " (2, 3, 1),\n",
       " (2, 2, 0),\n",
       " (2, 2, 3),\n",
       " (2, 2, 2),\n",
       " (2, 1, 0),\n",
       " (2, 0, 2),\n",
       " (2, 0, 3)]"
      ]
     },
     "execution_count": 116,
     "metadata": {},
     "output_type": "execute_result"
    }
   ],
   "source": []
  },
  {
   "cell_type": "code",
   "execution_count": null,
   "metadata": {},
   "outputs": [],
   "source": [
    "\n"
   ]
  }
 ],
 "metadata": {
  "kernelspec": {
   "display_name": "Python 3",
   "language": "python",
   "name": "python3"
  },
  "language_info": {
   "codemirror_mode": {
    "name": "ipython",
    "version": 3
   },
   "file_extension": ".py",
   "mimetype": "text/x-python",
   "name": "python",
   "nbconvert_exporter": "python",
   "pygments_lexer": "ipython3",
   "version": "3.6.3"
  }
 },
 "nbformat": 4,
 "nbformat_minor": 2
}
