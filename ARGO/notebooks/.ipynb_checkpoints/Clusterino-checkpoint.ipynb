{
 "cells": [
  {
   "cell_type": "code",
   "execution_count": 8,
   "metadata": {},
   "outputs": [],
   "source": [
    "import copy as cp"
   ]
  },
  {
   "cell_type": "code",
   "execution_count": 9,
   "metadata": {},
   "outputs": [],
   "source": [
    "class Game:    \n",
    "    def __init__(self):\n",
    "        print(\"[+] Game Created, please load a game board to proceed...\")\n",
    "        self.board = None\n",
    "        \n",
    "    def to_move(self, s):\n",
    "        self.test_method_failure()\n",
    "        p = 1 #player\n",
    "        return p\n",
    "    \n",
    "    def terminal_test(self, s):\n",
    "        self.test_method_failure()\n",
    "        return True\n",
    "    \n",
    "    def utility(self, s, p):\n",
    "        self.test_method_failure()\n",
    "        payoff = 1\n",
    "        return payoff\n",
    "    \n",
    "    def actions(self, s):\n",
    "        '''\n",
    "            This is only returning empty spaces, available actions should not allow for KO rule breakers\n",
    "            and maybe even stupid moves\n",
    "        '''\n",
    "        self.test_method_failure()\n",
    "        return [(self.to_move(s), i, j) for i in range(self.n) for j in range(self.n) if go.board[i][j] == 0] \n",
    "    \n",
    "    def result(self, s, a):\n",
    "        self.test_method_failure()\n",
    "        state = s\n",
    "        return state\n",
    "    \n",
    "    def load_board(self, s):\n",
    "        '''\n",
    "            Loads the board from an opened file stream and saves it to the class field 'board'\n",
    "            as weel as board dimension 'n', and first player 'p'\n",
    "            this is done while checking for file integrity\n",
    "        '''\n",
    "        \n",
    "        print(\"\\t[+] Loading Board...\")\n",
    "        contents = s.read().split()\n",
    "        try:\n",
    "            self.n = int(contents[0]) # get board dimension\n",
    "            self.p = int(contents[1]) # get first player to move\n",
    "            self.board = [list(map(int, lst)) for lst in contents[2:] # load board into 2D list\n",
    "                          if len(lst)==self.n or                      # check if each row has the correct number of elements\n",
    "                          any(c in lst for c in ['3', '4', '5', '6', '7', '8', '9'])] #check if any digits above 2 in each row\n",
    "        except ValueError:\n",
    "            # if at any point a non numeric value is found failure is issued\n",
    "            self.load_failure()\n",
    "            return\n",
    "        \n",
    "        if len(self.board) == self.n:\n",
    "            print(\"\\t[+] Game Board Successfuly Loaded!\")\n",
    "        else:\n",
    "            # if dimensions dont match return failure\n",
    "            self.load_failure()\n",
    "    \n",
    "    def load_failure(self):\n",
    "        print(\"\\t\\t[-] Bad File...\")\n",
    "        print(\"\\t\\t[-] Please try another file...\")\n",
    "        self.board = None\n",
    "    \n",
    "    def test_method_failure(self):\n",
    "        if not self.board:\n",
    "            print('\\t[-] Game not initiated, please lad a game borad...')\n",
    "            raise Exception('Error: Game not initiated.')"
   ]
  },
  {
   "cell_type": "code",
   "execution_count": 16,
   "metadata": {},
   "outputs": [],
   "source": [
    "class Cluster:\n",
    "    \n",
    "    def __init__(self):\n",
    "        self.clusters = {1: {}, 2: {}}\n",
    "        self.board = None\n",
    "    \n",
    "    def cluster_maker(self, p, matrix, n, row, column, key):\n",
    "        if(row<0 or column<0 or row>=n or column>=n):\n",
    "            return 0\n",
    "        \n",
    "        if(matrix[row][column] == 0):\n",
    "            self.clusters[p][key][\"liberties\"].update([(row, column)])\n",
    "            return 0\n",
    "        \n",
    "        if(matrix[row][column] != p):\n",
    "            return 0\n",
    "        \n",
    "        matrix[row][column] = -1\n",
    "        self.clusters[p][key][\"pieces\"].update([(row, column)])\n",
    "        \n",
    "        size = 1\n",
    "        size += self.cluster_maker(p, matrix, n, row-1, column, key);\n",
    "        size += self.cluster_maker(p, matrix, n, row+1, column, key);\n",
    "        size += self.cluster_maker(p, matrix, n, row, column-1, key);\n",
    "        size += self.cluster_maker(p, matrix, n, row, column+1, key);\n",
    "        return size\n",
    "            \n",
    "        \n",
    "    def load_board(self, matrix, n):\n",
    "        maxRegion1 = 0\n",
    "        maxRegion2 = 0\n",
    "        self.board = cp.deepcopy(matrix)\n",
    "        self.n = n\n",
    "        \n",
    "        for i in range(n):\n",
    "            for j in range(n):\n",
    "                if(matrix[i][j] == 1):\n",
    "                    key = len(self.clusters[1])+1\n",
    "                    self.clusters[1].update({key: {\"pieces\": set(), \"liberties\": set()}})\n",
    "                    size1 = self.cluster_maker(1, matrix, n, i, j, key)\n",
    "                    maxRegion = max(size1, maxRegion1)\n",
    "                elif(matrix[i][j] == 2):\n",
    "                    key = len(self.clusters[2])+1\n",
    "                    self.clusters[2].update({key: {\"pieces\": set(), \"liberties\": set()}})\n",
    "                    size2 = self.cluster_maker(2, matrix, n, i, j, key)\n",
    "                    maxRegion2 = max(size2, maxRegion2)\n",
    "                \n",
    "        return maxRegion1, maxRegion2\n",
    "    \n",
    "    def get_liberties(self, row, column):\n",
    "        liberties = []\n",
    "        \n",
    "        if(row-1>=0 and self.board[row-1][column] == 0):\n",
    "                liberties.append((row-1,column))\n",
    "                \n",
    "        if(row+1<self.n and self.board[row+1][column] == 0):\n",
    "                liberties.append((row+1,column))\n",
    "        \n",
    "        if(column-1>=0 and self.board[row][column-1] == 0):\n",
    "                liberties.append((row,column-1))\n",
    "            \n",
    "        if(column+1<self.n and self.board[row][column+1] == 0):\n",
    "                liberties.append((row,column+1))\n",
    "        return liberties\n",
    "        \n",
    "    def join_clusters(self, cluster1, cluster2):\n",
    "        return {\"pieces\" : cluster1[\"pieces\"].union(cluster2[\"pieces\"]), \"liberties\" : cluster1[\"liberties\"].union(cluster2[\"liberties\"])}\n",
    "    \n",
    "    def add_2_cluster(self, p, key, row, column):\n",
    "        liberties = self.get_liberties(row, column) \n",
    "        \n",
    "        try:\n",
    "            self.clusters[p][key][\"liberties\"].remove((row,column))\n",
    "        except:\n",
    "            pass\n",
    "                \n",
    "        self.clusters[p][key][\"pieces\"].update([(row,column)])\n",
    "        self.clusters[p][key][\"liberties\"].update(liberties)\n",
    "        \n",
    "    def add_piece(self, p, row, column):\n",
    "        if(self.board[row][column] != 0):\n",
    "            raise Exception('Point already taken by player ' + str(self.board[row][column]))\n",
    "            \n",
    "        join_clstrs = []\n",
    "        \n",
    "        if(p==1):\n",
    "            op = 2 \n",
    "        else: \n",
    "            op = 1           \n",
    "             \n",
    "        for cluster in self.clusters[p].items():\n",
    "            if((row,column) in cluster[1][\"liberties\"]):\n",
    "                join_clstrs.append(cluster[0])\n",
    "                \n",
    "        if(len(join_clstrs) > 1):\n",
    "            for i in join_clstrs[1:]:\n",
    "                self.clusters[p][join_clstrs[0]] = self.join_clusters(self.clusters[p][join_clstrs[0]], self.clusters[p][i])\n",
    "                del self.clusters[p][i]\n",
    "                \n",
    "            self.add_2_cluster(p, join_clstrs[0], row, column)\n",
    "            \n",
    "        elif(len(join_clstrs) == 1):\n",
    "            self.add_2_cluster(p, join_clstrs[0], row, column)\n",
    "            \n",
    "        else:\n",
    "            self.clusters[p].update({len(self.clusters[p])+1: {\"pieces\": set([(row,column)]), \"liberties\": set(self.get_liberties(row, column))}})\n",
    "            \n",
    "        for cluster in self.clusters[op].items():\n",
    "            try:\n",
    "                cluster[1][\"liberties\"].remove((row,column)) \n",
    "            except:\n",
    "                pass\n",
    "        self.board[row][column] = p"
   ]
  },
  {
   "cell_type": "code",
   "execution_count": 17,
   "metadata": {},
   "outputs": [
    {
     "name": "stdout",
     "output_type": "stream",
     "text": [
      "[+] Game Created, please load a game board to proceed...\n",
      "\t[+] Loading Board...\n",
      "\t[+] Game Board Successfuly Loaded!\n"
     ]
    },
    {
     "data": {
      "text/plain": [
       "[[1, 0, 1, 1], [2, 2, 2, 1], [0, 2, 0, 0], [0, 0, 0, 0]]"
      ]
     },
     "execution_count": 17,
     "metadata": {},
     "output_type": "execute_result"
    }
   ],
   "source": [
    "go = Game()\n",
    "go.load_board(open('../boards/board_2.txt', 'r'))\n",
    "matrix = go.board.copy()\n",
    "n = go.n\n",
    "matrix"
   ]
  },
  {
   "cell_type": "code",
   "execution_count": 18,
   "metadata": {},
   "outputs": [],
   "source": [
    "clstr = Cluster()\n",
    "clstr.load_board(matrix, n)\n",
    "row = 0\n",
    "column = 1"
   ]
  },
  {
   "cell_type": "code",
   "execution_count": 19,
   "metadata": {},
   "outputs": [
    {
     "data": {
      "text/plain": [
       "{1: {'pieces': {(0, 0)}, 'liberties': {(0, 1)}},\n",
       " 2: {'pieces': {(0, 2), (0, 3), (1, 3)}, 'liberties': {(0, 1), (2, 3)}}}"
      ]
     },
     "execution_count": 19,
     "metadata": {},
     "output_type": "execute_result"
    }
   ],
   "source": [
    "clstr.clusters[1]"
   ]
  },
  {
   "cell_type": "code",
   "execution_count": 20,
   "metadata": {},
   "outputs": [
    {
     "data": {
      "text/plain": [
       "[[1, 0, 1, 1], [2, 2, 2, 1], [0, 2, 0, 0], [0, 0, 0, 0]]"
      ]
     },
     "execution_count": 20,
     "metadata": {},
     "output_type": "execute_result"
    }
   ],
   "source": [
    "clstr.board"
   ]
  },
  {
   "cell_type": "code",
   "execution_count": 23,
   "metadata": {},
   "outputs": [
    {
     "ename": "Exception",
     "evalue": "Point already taken by player 1",
     "output_type": "error",
     "traceback": [
      "\u001b[1;31m---------------------------------------------------------------------------\u001b[0m",
      "\u001b[1;31mException\u001b[0m                                 Traceback (most recent call last)",
      "\u001b[1;32m<ipython-input-23-b403ada2e940>\u001b[0m in \u001b[0;36m<module>\u001b[1;34m()\u001b[0m\n\u001b[1;32m----> 1\u001b[1;33m \u001b[0mclstr\u001b[0m\u001b[1;33m.\u001b[0m\u001b[0madd_piece\u001b[0m\u001b[1;33m(\u001b[0m\u001b[1;36m2\u001b[0m\u001b[1;33m,\u001b[0m \u001b[1;36m2\u001b[0m\u001b[1;33m,\u001b[0m \u001b[1;36m2\u001b[0m\u001b[1;33m)\u001b[0m\u001b[1;33m\u001b[0m\u001b[0m\n\u001b[0m",
      "\u001b[1;32m<ipython-input-16-9029f22fa3c1>\u001b[0m in \u001b[0;36madd_piece\u001b[1;34m(self, p, row, column)\u001b[0m\n\u001b[0;32m     80\u001b[0m     \u001b[1;32mdef\u001b[0m \u001b[0madd_piece\u001b[0m\u001b[1;33m(\u001b[0m\u001b[0mself\u001b[0m\u001b[1;33m,\u001b[0m \u001b[0mp\u001b[0m\u001b[1;33m,\u001b[0m \u001b[0mrow\u001b[0m\u001b[1;33m,\u001b[0m \u001b[0mcolumn\u001b[0m\u001b[1;33m)\u001b[0m\u001b[1;33m:\u001b[0m\u001b[1;33m\u001b[0m\u001b[0m\n\u001b[0;32m     81\u001b[0m         \u001b[1;32mif\u001b[0m\u001b[1;33m(\u001b[0m\u001b[0mself\u001b[0m\u001b[1;33m.\u001b[0m\u001b[0mboard\u001b[0m\u001b[1;33m[\u001b[0m\u001b[0mrow\u001b[0m\u001b[1;33m]\u001b[0m\u001b[1;33m[\u001b[0m\u001b[0mcolumn\u001b[0m\u001b[1;33m]\u001b[0m \u001b[1;33m!=\u001b[0m \u001b[1;36m0\u001b[0m\u001b[1;33m)\u001b[0m\u001b[1;33m:\u001b[0m\u001b[1;33m\u001b[0m\u001b[0m\n\u001b[1;32m---> 82\u001b[1;33m             \u001b[1;32mraise\u001b[0m \u001b[0mException\u001b[0m\u001b[1;33m(\u001b[0m\u001b[1;34m'Point already taken by player '\u001b[0m \u001b[1;33m+\u001b[0m \u001b[0mstr\u001b[0m\u001b[1;33m(\u001b[0m\u001b[0mself\u001b[0m\u001b[1;33m.\u001b[0m\u001b[0mboard\u001b[0m\u001b[1;33m[\u001b[0m\u001b[0mrow\u001b[0m\u001b[1;33m]\u001b[0m\u001b[1;33m[\u001b[0m\u001b[0mcolumn\u001b[0m\u001b[1;33m]\u001b[0m\u001b[1;33m)\u001b[0m\u001b[1;33m)\u001b[0m\u001b[1;33m\u001b[0m\u001b[0m\n\u001b[0m\u001b[0;32m     83\u001b[0m \u001b[1;33m\u001b[0m\u001b[0m\n\u001b[0;32m     84\u001b[0m         \u001b[0mjoin_clstrs\u001b[0m \u001b[1;33m=\u001b[0m \u001b[1;33m[\u001b[0m\u001b[1;33m]\u001b[0m\u001b[1;33m\u001b[0m\u001b[0m\n",
      "\u001b[1;31mException\u001b[0m: Point already taken by player 1"
     ]
    }
   ],
   "source": [
    "clstr.add_piece(2, 2, 2)"
   ]
  },
  {
   "cell_type": "code",
   "execution_count": 159,
   "metadata": {},
   "outputs": [
    {
     "data": {
      "text/plain": [
       "{1: {'pieces': {(0, 0)}, 'liberties': set()},\n",
       " 2: {'pieces': {(0, 2), (0, 3), (1, 3), (2, 2), (2, 3)},\n",
       "  'liberties': {(3, 2), (3, 3)}}}"
      ]
     },
     "execution_count": 159,
     "metadata": {},
     "output_type": "execute_result"
    }
   ],
   "source": [
    "clstr.clusters[1]"
   ]
  },
  {
   "cell_type": "code",
   "execution_count": 86,
   "metadata": {},
   "outputs": [
    {
     "data": {
      "text/plain": [
       "[[1, 0, 1, 1], [2, 2, 2, 1], [0, 2, 2, 1], [0, 0, 0, 0]]"
      ]
     },
     "execution_count": 86,
     "metadata": {},
     "output_type": "execute_result"
    }
   ],
   "source": [
    "clstr.board"
   ]
  },
  {
   "cell_type": "code",
   "execution_count": 97,
   "metadata": {},
   "outputs": [],
   "source": [
    "clstr.board[3][3] = 1"
   ]
  },
  {
   "cell_type": "code",
   "execution_count": 98,
   "metadata": {},
   "outputs": [
    {
     "data": {
      "text/plain": [
       "[[1, 0, 1, 1], [2, 2, 2, 1], [0, 2, 0, 1], [0, 0, 0, 1]]"
      ]
     },
     "execution_count": 98,
     "metadata": {},
     "output_type": "execute_result"
    }
   ],
   "source": [
    "clstr.board"
   ]
  },
  {
   "cell_type": "code",
   "execution_count": null,
   "metadata": {},
   "outputs": [],
   "source": []
  }
 ],
 "metadata": {
  "kernelspec": {
   "display_name": "Python 3",
   "language": "python",
   "name": "python3"
  },
  "language_info": {
   "codemirror_mode": {
    "name": "ipython",
    "version": 3
   },
   "file_extension": ".py",
   "mimetype": "text/x-python",
   "name": "python",
   "nbconvert_exporter": "python",
   "pygments_lexer": "ipython3",
   "version": "3.6.3"
  }
 },
 "nbformat": 4,
 "nbformat_minor": 2
}
