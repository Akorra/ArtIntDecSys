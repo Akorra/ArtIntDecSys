{
 "cells": [
  {
   "cell_type": "code",
   "execution_count": 114,
   "metadata": {},
   "outputs": [],
   "source": [
    "class Game:    \n",
    "    def __init__(self):\n",
    "        print(\"[+] Game Created, please load a game board to proceed...\")\n",
    "        self.board = None\n",
    "        \n",
    "    def to_move(self, s):\n",
    "        self.test_method_failure()\n",
    "        p = 1 #player\n",
    "        return p\n",
    "    \n",
    "    def terminal_test(self, s):\n",
    "        self.test_method_failure()\n",
    "        return True\n",
    "    \n",
    "    def utility(self, s, p):\n",
    "        self.test_method_failure()\n",
    "        payoff = 1\n",
    "        return payoff\n",
    "    \n",
    "    def actions(self, s):\n",
    "        '''\n",
    "            This is only returning empty spaces, available actions should not allow for KO rule breakers\n",
    "            and maybe even stupid moves\n",
    "        '''\n",
    "        self.test_method_failure()\n",
    "        return [(self.to_move(s), i, j) for i in range(self.n) for j in range(self.n) if go.board[i][j] == 0] \n",
    "    \n",
    "    def result(self, s, a):\n",
    "        self.test_method_failure()\n",
    "        state = s\n",
    "        return state\n",
    "    \n",
    "    def load_board(self, s):\n",
    "        '''\n",
    "            Loads the board from an opened file stream and saves it to the class field 'board'\n",
    "            as weel as board dimension 'n', and first player 'p'\n",
    "            this is done while checking for file integrity\n",
    "        '''\n",
    "        \n",
    "        print(\"\\t[+] Loading Board...\")\n",
    "        contents = s.read().split()\n",
    "        try:\n",
    "            self.n = int(contents[0]) # get board dimension\n",
    "            self.p = int(contents[1]) # get first player to move\n",
    "            self.board = [list(map(int, lst)) for lst in contents[2:] # load board into 2D list\n",
    "                          if len(lst)==self.n or                      # check if each row has the correct number of elements\n",
    "                          any(c in lst for c in ['3', '4', '5', '6', '7', '8', '9'])] #check if any digits above 2 in each row\n",
    "        except ValueError:\n",
    "            # if at any point a non numeric value is found failure is issued\n",
    "            self.load_failure()\n",
    "            return\n",
    "        \n",
    "        if len(self.board) == self.n:\n",
    "            print(\"\\t[+] Game Board Successfuly Loaded!\")\n",
    "        else:\n",
    "            # if dimensions dont match return failure\n",
    "            self.load_failure()\n",
    "    \n",
    "    def load_failure(self):\n",
    "        print(\"\\t\\t[-] Bad File...\")\n",
    "        print(\"\\t\\t[-] Please try another file...\")\n",
    "        self.board = None\n",
    "    \n",
    "    def test_method_failure(self):\n",
    "        if not self.board:\n",
    "            print('\\t[-] Game not initiated, please lad a game borad...')\n",
    "            raise Exception('Error: Game not initiated.')"
   ]
  },
  {
   "cell_type": "code",
   "execution_count": 176,
   "metadata": {},
   "outputs": [],
   "source": [
    "class Cluster:\n",
    "    \n",
    "    def __init__(self):\n",
    "        self.clusters = {1: {}, 2: {}}\n",
    "        self.board = None\n",
    "    \n",
    "    def cluster_maker(self, p, matrix, n, row, column, key):\n",
    "        if(row<0 or column<0 or row>=n or column>=n):\n",
    "            return 0\n",
    "        \n",
    "        if(matrix[row][column] == 0):\n",
    "            self.clusters[p][key][\"liberties\"].update([(row, column)])\n",
    "            return 0\n",
    "        \n",
    "        if(matrix[row][column] != p):\n",
    "            return 0\n",
    "        \n",
    "        matrix[row][column] = -1\n",
    "        self.clusters[p][key][\"pieces\"].update([(row, column)])\n",
    "        \n",
    "        size = 1\n",
    "        size += self.cluster_maker(p, matrix, n, row-1, column, key);\n",
    "        size += self.cluster_maker(p, matrix, n, row+1, column, key);\n",
    "        size += self.cluster_maker(p, matrix, n, row, column-1, key);\n",
    "        size += self.cluster_maker(p, matrix, n, row, column+1, key);\n",
    "        return size\n",
    "            \n",
    "        \n",
    "    def load_board(self, matrix, n):\n",
    "        maxRegion1 = 0\n",
    "        maxRegion2 = 0\n",
    "        self.board = matrix.copy()\n",
    "        self.n = n\n",
    "        \n",
    "        for i in range(n):\n",
    "            for j in range(n):\n",
    "                if(matrix[i][j] == 1):\n",
    "                    key = len(self.clusters[1])+1\n",
    "                    self.clusters[1].update({key: {\"pieces\": set(), \"liberties\": set()}})\n",
    "                    size1 = self.cluster_maker(1, matrix, n, i, j, key)\n",
    "                    maxRegion = max(size1, maxRegion1)\n",
    "                elif(matrix[i][j] == 2):\n",
    "                    key = len(self.clusters[2])+1\n",
    "                    self.clusters[2].update({key: {\"pieces\": set(), \"liberties\": set()}})\n",
    "                    size2 = self.cluster_maker(2, matrix, n, i, j, key)\n",
    "                    maxRegion2 = max(size2, maxRegion2)\n",
    "                \n",
    "        return maxRegion1, maxRegion2\n",
    "    \n",
    "    def get_liberties(self, row, column):\n",
    "        liberties = []\n",
    "\n",
    "        if(self.board[row-1][column] == 0):\n",
    "            if(row-1>=0):\n",
    "                liberties.append((row-1,column))\n",
    "            \n",
    "        if(self.board[row+1][column] == 0):\n",
    "            if(row+1<self.n):\n",
    "                liberties.append((row+1,column))\n",
    "            \n",
    "        if(self.board[row][column-1] == 0):\n",
    "            if(column-1>=0):\n",
    "                liberties.append((row,column-1))\n",
    "            \n",
    "        if(self.board[row][column+1] == 0):\n",
    "            if(column+1<self.n):\n",
    "                liberties.append((row,column+1))\n",
    "        return liberties\n",
    "        \n",
    "    def add_clusters(self, cluster1, cluster2):\n",
    "        return {\"pieces\" : cluster1[\"pieces\"].union(cluster2[\"pieces\"]), \"liberties\" : cluster1[\"liberties\"].union(cluster2[\"liberties\"])}\n",
    "    \n",
    "    def add_piece(self, p, row, column):\n",
    "        join_clstrs = []\n",
    "        liberties = self.get_liberties(row, column) \n",
    "        \n",
    "        if(p==1):\n",
    "            op = 2 \n",
    "        else: \n",
    "            op = 1           \n",
    "             \n",
    "        for cluster in self.clusters[p].items():\n",
    "            if((row,column) in cluster[1][\"liberties\"]):\n",
    "                join_clstrs.append(cluster[0])\n",
    "                \n",
    "        if(len(join_clstrs) > 1):\n",
    "            for i in join_clstrs[1:]:\n",
    "                self.clusters[p][join_clstrs[0]] = add_clusters(self.clusters[p][join_clstrs[0]], self.clusters[1][i])\n",
    "                del self.clusters[p][i]\n",
    "                \n",
    "            try:\n",
    "                self.clusters[p][join_clstrs[0]][\"liberties\"].remove((row,column))\n",
    "            except:\n",
    "                pass\n",
    "                \n",
    "            self.clusters[p][join_clstrs[0]][\"pieces\"].update([(row,column)])\n",
    "            self.clusters[p][join_clstrs[0]][\"liberties\"].update(liberties)\n",
    "    \n",
    "        for cluster in self.clusters[op].items():\n",
    "            try:\n",
    "                cluster[1][\"liberties\"].remove((row,column)) \n",
    "            except:\n",
    "                pass\n",
    "                \n",
    "                \n",
    "            "
   ]
  },
  {
   "cell_type": "code",
   "execution_count": 198,
   "metadata": {},
   "outputs": [
    {
     "name": "stdout",
     "output_type": "stream",
     "text": [
      "[+] Game Created, please load a game board to proceed...\n",
      "\t[+] Loading Board...\n",
      "\t[+] Game Board Successfuly Loaded!\n"
     ]
    },
    {
     "data": {
      "text/plain": [
       "[[1, 1, 1, 1], [2, 2, 2, 1], [0, 2, 0, 2], [0, 0, 0, 0]]"
      ]
     },
     "execution_count": 198,
     "metadata": {},
     "output_type": "execute_result"
    }
   ],
   "source": [
    "go = Game()\n",
    "go.load_board(open('../boards/board_2.txt', 'r'))\n",
    "matrix = go.board.copy()\n",
    "n = go.n\n",
    "matrix"
   ]
  },
  {
   "cell_type": "code",
   "execution_count": 199,
   "metadata": {},
   "outputs": [],
   "source": [
    "clstr = Cluster()\n",
    "clstr.load_board(matrix, n)\n",
    "row = 0\n",
    "column = 1"
   ]
  },
  {
   "cell_type": "code",
   "execution_count": 179,
   "metadata": {},
   "outputs": [
    {
     "data": {
      "text/plain": [
       "{1: {'pieces': {(0, 0), (0, 1), (0, 2), (0, 3), (1, 3)}, 'liberties': set()}}"
      ]
     },
     "execution_count": 179,
     "metadata": {},
     "output_type": "execute_result"
    }
   ],
   "source": [
    "clstr.clusters[1]"
   ]
  },
  {
   "cell_type": "code",
   "execution_count": 205,
   "metadata": {},
   "outputs": [
    {
     "name": "stdout",
     "output_type": "stream",
     "text": [
      "2 won\n"
     ]
    }
   ],
   "source": [
    "for cluster in clstr.clusters[1].items():\n",
    "    if(not cluster[1][\"liberties\"]):\n",
    "        print(\"2 won\")\n",
    "    else:\n",
    "        print(\"not lost yet\")"
   ]
  },
  {
   "cell_type": "code",
   "execution_count": 180,
   "metadata": {},
   "outputs": [
    {
     "data": {
      "text/plain": [
       "{1: {'pieces': {(1, 0), (1, 1), (1, 2), (2, 1)},\n",
       "  'liberties': {(2, 0), (2, 2), (3, 1)}},\n",
       " 2: {'pieces': {(2, 3)}, 'liberties': {(2, 2), (3, 3)}}}"
      ]
     },
     "execution_count": 180,
     "metadata": {},
     "output_type": "execute_result"
    }
   ],
   "source": [
    "clstr.clusters[2]"
   ]
  },
  {
   "cell_type": "code",
   "execution_count": 181,
   "metadata": {},
   "outputs": [],
   "source": [
    "clstr.add_piece(1, 0, 1)"
   ]
  },
  {
   "cell_type": "code",
   "execution_count": 182,
   "metadata": {},
   "outputs": [
    {
     "data": {
      "text/plain": [
       "{1: {'pieces': {(0, 0), (0, 1), (0, 2), (0, 3), (1, 3)}, 'liberties': set()}}"
      ]
     },
     "execution_count": 182,
     "metadata": {},
     "output_type": "execute_result"
    }
   ],
   "source": [
    "clstr.clusters[1]"
   ]
  },
  {
   "cell_type": "code",
   "execution_count": 183,
   "metadata": {},
   "outputs": [
    {
     "data": {
      "text/plain": [
       "{1: {'pieces': {(1, 0), (1, 1), (1, 2), (2, 1)},\n",
       "  'liberties': {(2, 0), (2, 2), (3, 1)}},\n",
       " 2: {'pieces': {(2, 3)}, 'liberties': {(2, 2), (3, 3)}}}"
      ]
     },
     "execution_count": 183,
     "metadata": {},
     "output_type": "execute_result"
    }
   ],
   "source": [
    "clstr.clusters[2]"
   ]
  },
  {
   "cell_type": "code",
   "execution_count": 184,
   "metadata": {},
   "outputs": [],
   "source": [
    "import random "
   ]
  },
  {
   "cell_type": "code",
   "execution_count": 192,
   "metadata": {},
   "outputs": [],
   "source": [
    "n19 = [[random.randint(0,2) for j in range(19)] for i in range(19)]"
   ]
  },
  {
   "cell_type": "code",
   "execution_count": 193,
   "metadata": {},
   "outputs": [
    {
     "data": {
      "text/plain": [
       "(0, 14)"
      ]
     },
     "execution_count": 193,
     "metadata": {},
     "output_type": "execute_result"
    }
   ],
   "source": [
    "clstr = Cluster()\n",
    "clstr.load_board(n19, 19)"
   ]
  },
  {
   "cell_type": "code",
   "execution_count": 196,
   "metadata": {},
   "outputs": [],
   "source": [
    "clstr.add_piece(1, 1, 2)"
   ]
  }
 ],
 "metadata": {
  "kernelspec": {
   "display_name": "Python 3",
   "language": "python",
   "name": "python3"
  },
  "language_info": {
   "codemirror_mode": {
    "name": "ipython",
    "version": 3
   },
   "file_extension": ".py",
   "mimetype": "text/x-python",
   "name": "python",
   "nbconvert_exporter": "python",
   "pygments_lexer": "ipython3",
   "version": "3.6.3"
  }
 },
 "nbformat": 4,
 "nbformat_minor": 2
}
