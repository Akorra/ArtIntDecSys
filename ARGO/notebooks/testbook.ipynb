{
 "cells": [
  {
   "cell_type": "code",
   "execution_count": 5,
   "metadata": {},
   "outputs": [],
   "source": [
    "class Game:\n",
    "    def __init__(self):\n",
    "        print(\"Please notice me sempai...\")\n",
    "        \n",
    "    def to_move(s):\n",
    "        p = 1 #player\n",
    "        return p\n",
    "    \n",
    "    def terminal_test(s):\n",
    "        return True\n",
    "    \n",
    "    def utility(s, p):\n",
    "        payoff = 1\n",
    "        return payoff\n",
    "    \n",
    "    def actions(s):\n",
    "        actions = [1, 2, 3, 4]\n",
    "        return actions\n",
    "    \n",
    "    def result(s, a):\n",
    "        state = s\n",
    "        return state\n",
    "    \n",
    "    def load_board(s):\n",
    "        return state\n",
    "    "
   ]
  },
  {
   "cell_type": "code",
   "execution_count": null,
   "metadata": {},
   "outputs": [],
   "source": []
  }
 ],
 "metadata": {
  "kernelspec": {
   "display_name": "Python 3",
   "language": "python",
   "name": "python3"
  },
  "language_info": {
   "codemirror_mode": {
    "name": "ipython",
    "version": 3
   },
   "file_extension": ".py",
   "mimetype": "text/x-python",
   "name": "python",
   "nbconvert_exporter": "python",
   "pygments_lexer": "ipython3",
   "version": "3.6.3"
  }
 },
 "nbformat": 4,
 "nbformat_minor": 2
}
