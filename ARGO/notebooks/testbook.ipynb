{
 "cells": [
  {
   "cell_type": "code",
   "execution_count": 1,
   "metadata": {},
   "outputs": [],
   "source": [
    "class Game:    \n",
    "    def __init__(self):\n",
    "        print(\"[+] Game Created, please load a game board to proceed...\")\n",
    "        self.board = None\n",
    "        \n",
    "    def to_move(self, s):\n",
    "        self.test_method_failure()\n",
    "        p = 1 #player\n",
    "        return p\n",
    "    \n",
    "    def terminal_test(self, s):\n",
    "        self.test_method_failure()\n",
    "        return True\n",
    "    \n",
    "    def utility(self, s, p):\n",
    "        self.test_method_failure()\n",
    "        payoff = 1\n",
    "        return payoff\n",
    "    \n",
    "    def actions(self, s):\n",
    "        '''\n",
    "            This is only returning empty spaces, available actions should not allow for KO rule breakers\n",
    "            and maybe even stupid moves\n",
    "        '''\n",
    "        self.test_method_failure()\n",
    "        return [(self.to_move(s), i, j) for i in range(self.n) for j in range(self.n) if go.board[i][j] == 0] \n",
    "    \n",
    "    def result(self, s, a):\n",
    "        self.test_method_failure()\n",
    "        state = s\n",
    "        return state\n",
    "    \n",
    "    def load_board(self, s):\n",
    "        '''\n",
    "            Loads the board from an opened file stream and saves it to the class field 'board'\n",
    "            as weel as board dimension 'n', and first player 'p'\n",
    "            this is done while checking for file integrity\n",
    "        '''\n",
    "        \n",
    "        print(\"\\t[+] Loading Board...\")\n",
    "        contents = s.read().split()\n",
    "        try:\n",
    "            self.n = int(contents[0]) # get board dimension\n",
    "            self.p = int(contents[1]) # get first player to move\n",
    "            self.board = [list(map(int, lst)) for lst in contents[2:] # load board into 2D list\n",
    "                          if len(lst)==self.n or                      # check if each row has the correct number of elements\n",
    "                          any(c in lst for c in ['3', '4', '5', '6', '7', '8', '9'])] #check if any digits above 2 in each row\n",
    "        except ValueError:\n",
    "            # if at any point a non numeric value is found failure is issued\n",
    "            self.load_failure()\n",
    "            return\n",
    "        \n",
    "        if len(self.board) == self.n:\n",
    "            print(\"\\t[+] Game Board Successfuly Loaded!\")\n",
    "        else:\n",
    "            # if dimensions dont match return failure\n",
    "            self.load_failure()\n",
    "    \n",
    "    def load_failure(self):\n",
    "        print(\"\\t\\t[-] Bad File...\")\n",
    "        print(\"\\t\\t[-] Please try another file...\")\n",
    "        self.board = None\n",
    "    \n",
    "    def test_method_failure(self):\n",
    "        if not self.board:\n",
    "            print('\\t[-] Game not initiated, please lad a game borad...')\n",
    "            raise Exception('Error: Game not initiated.')"
   ]
  },
  {
   "cell_type": "code",
   "execution_count": 2,
   "metadata": {},
   "outputs": [
    {
     "name": "stdout",
     "output_type": "stream",
     "text": [
      "[+] Game Created, please load a game board to proceed...\n",
      "\t[+] Loading Board...\n",
      "\t[+] Game Board Successfuly Loaded!\n"
     ]
    },
    {
     "data": {
      "text/plain": [
       "[(1, 0, 0),\n",
       " (1, 0, 1),\n",
       " (1, 0, 3),\n",
       " (1, 1, 0),\n",
       " (1, 2, 0),\n",
       " (1, 2, 3),\n",
       " (1, 3, 0),\n",
       " (1, 3, 1),\n",
       " (1, 3, 2),\n",
       " (1, 3, 3)]"
      ]
     },
     "execution_count": 2,
     "metadata": {},
     "output_type": "execute_result"
    }
   ],
   "source": [
    "go = Game()\n",
    "go.load_board(open('../boards/board_1.txt', 'r'))\n",
    "go.actions(1)"
   ]
  },
  {
   "cell_type": "code",
   "execution_count": 16,
   "metadata": {},
   "outputs": [
    {
     "data": {
      "text/plain": [
       "[[0, 0, 1, 0], [0, 1, 2, 2], [0, 2, 1, 0], [0, 0, 0, 0]]"
      ]
     },
     "execution_count": 16,
     "metadata": {},
     "output_type": "execute_result"
    }
   ],
   "source": [
    "go.board"
   ]
  },
  {
   "cell_type": "code",
   "execution_count": 1,
   "metadata": {},
   "outputs": [],
   "source": [
    "class QuickUnion_Lazy:\n",
    "    def __init__(self, nodes):\n",
    "        self.array = [num for num in range(nodes)]\n",
    "\n",
    "    # Follows parent pointers to actual root\n",
    "    def root(self, parent):\n",
    "        while parent != self.array[parent]:\n",
    "            parent = self.array[parent]\n",
    "        return parent\n",
    "\n",
    "    # Joins two nodes into a component\n",
    "    def union(self, first_node, second_node):\n",
    "        self.array[first_node] = self.array[second_node]\n",
    "\n",
    "    # Checks if two nodes are in the same component\n",
    "    def connected(self, first_node, second_node):\n",
    "        return self.root(first_node) == self.root(second_node)"
   ]
  },
  {
   "cell_type": "code",
   "execution_count": 6,
   "metadata": {},
   "outputs": [],
   "source": [
    "ql = QuickUnion_Lazy(20)"
   ]
  },
  {
   "cell_type": "code",
   "execution_count": 8,
   "metadata": {},
   "outputs": [],
   "source": [
    "ql.union(0,1)"
   ]
  },
  {
   "cell_type": "code",
   "execution_count": 12,
   "metadata": {},
   "outputs": [
    {
     "data": {
      "text/plain": [
       "True"
      ]
     },
     "execution_count": 12,
     "metadata": {},
     "output_type": "execute_result"
    }
   ],
   "source": [
    "ql.connected(0,1)"
   ]
  },
  {
   "cell_type": "code",
   "execution_count": null,
   "metadata": {},
   "outputs": [],
   "source": []
  }
 ],
 "metadata": {
  "kernelspec": {
   "display_name": "Python 3",
   "language": "python",
   "name": "python3"
  },
  "language_info": {
   "codemirror_mode": {
    "name": "ipython",
    "version": 3
   },
   "file_extension": ".py",
   "mimetype": "text/x-python",
   "name": "python",
   "nbconvert_exporter": "python",
   "pygments_lexer": "ipython3",
   "version": "3.6.3"
  }
 },
 "nbformat": 4,
 "nbformat_minor": 2
}
